{
 "cells": [
  {
   "cell_type": "markdown",
   "id": "f5d71c16",
   "metadata": {},
   "source": [
    "\"\"\"\n",
    "Created on Mon Feb 11 10:20:24 2022\n",
    "\n",
    "@author: Nilufer Dastan\n",
    "\n",
    "\"\"\"\"This dataset was made in Turkish, but the project will be updated after it is translated into English.\"\"\"\n",
    "\"\"\"\n"
   ]
  },
  {
   "cell_type": "markdown",
   "id": "3ab07cd2",
   "metadata": {},
   "source": [
    "# Transportation Problem (Ulaştırma)"
   ]
  },
  {
   "cell_type": "markdown",
   "id": "f58cd9ed",
   "metadata": {},
   "source": [
    "- Bir A ürününün belirli arz kaynaklarından yine belirli talep merkezlerine optimum şekilde\n",
    "ulaştırılması ile ilgileneceğiz.\n",
    "- Ulaştırma Problemlerini ulaştırma tablosu adı verilen bir tablo ile göstereceğiz.\n",
    "- Bu tabloda  $n$ tane arz merkezi ve $m$ tane talep merkezi olacak.\n",
    "- Bu matrisin $i$. satır ve $j$. sütun değerleri bize ’bir adet A ürününün $i$. arz merkezinden $j$.\n",
    "talep merkezine ulaştırılmasının maliyetini (Pb) gösterecek.\n",
    "- Diyelim ki bir ulaştırma probleminde 2 arz merkezi ve 3 talep merkezi olsun:"
   ]
  },
  {
   "cell_type": "markdown",
   "id": "b5e6b1e5",
   "metadata": {},
   "source": [
    "|           |    Mağaza1   |    Mağaza2    |    Mağaza3   |    Arz   |\n",
    "| :-------: | :----------: | :-----------: | :----------: | :------: |\n",
    "| Fabrika1  |      10      |       12      |      14      |    100   |\n",
    "| Fabrika2  |       9      |       13      |       8      |    200   |\n",
    "|  Talep    |      50      |      100      |     150      |     -    |"
   ]
  },
  {
   "cell_type": "markdown",
   "id": "10eb9e7d",
   "metadata": {},
   "source": [
    "- Tabloya göre bir birim A ürününü Fabrika 1’den Mağaza 1’e göndermenin maliyeti 10pb’dir.\n",
    "- Fabrika 1’in belirli bir dönemde gönderebileceği (arz edebileceği) miktar 100 birimdir (adet,kg, ton) (miktar)\n",
    "- Tabloya göre bir birim A ürününü Fabrika 1’den Mağaza 3’e ulaştırmanın maliyeti 14 pb’dir.\n",
    "- Tabloya göre bir birim A ürününü Fabrika 2’den Mağaza 2’ye ulaştırmanın maliyeti 13 pb’dir.\n",
    "- Tabloya göre Mağaza 1’in belirli bir dönemdeki A ürünü talebi 50 adettir (adet, kg, ton)(miktar)"
   ]
  },
  {
   "cell_type": "code",
   "execution_count": 4,
   "id": "0beac01a",
   "metadata": {
    "vscode": {
     "languageId": "r"
    }
   },
   "outputs": [],
   "source": [
    "toplam_arz<- 100 + 200"
   ]
  },
  {
   "cell_type": "code",
   "execution_count": 5,
   "id": "32f344f2",
   "metadata": {
    "vscode": {
     "languageId": "r"
    }
   },
   "outputs": [],
   "source": [
    "toplam_talep <- 50 + 100 + 150"
   ]
  },
  {
   "cell_type": "code",
   "execution_count": 6,
   "id": "831212c6",
   "metadata": {
    "vscode": {
     "languageId": "r"
    }
   },
   "outputs": [
    {
     "data": {
      "text/html": [
       "TRUE"
      ],
      "text/latex": [
       "TRUE"
      ],
      "text/markdown": [
       "TRUE"
      ],
      "text/plain": [
       "[1] TRUE"
      ]
     },
     "metadata": {},
     "output_type": "display_data"
    }
   ],
   "source": [
    "toplam_arz == toplam_talep"
   ]
  },
  {
   "cell_type": "code",
   "execution_count": 7,
   "id": "8ad55a46",
   "metadata": {
    "vscode": {
     "languageId": "r"
    }
   },
   "outputs": [
    {
     "data": {
      "text/html": [
       "300"
      ],
      "text/latex": [
       "300"
      ],
      "text/markdown": [
       "300"
      ],
      "text/plain": [
       "[1] 300"
      ]
     },
     "metadata": {},
     "output_type": "display_data"
    }
   ],
   "source": [
    "toplam_arz"
   ]
  },
  {
   "cell_type": "code",
   "execution_count": 8,
   "id": "f0c99ac2",
   "metadata": {
    "vscode": {
     "languageId": "r"
    }
   },
   "outputs": [
    {
     "data": {
      "text/html": [
       "300"
      ],
      "text/latex": [
       "300"
      ],
      "text/markdown": [
       "300"
      ],
      "text/plain": [
       "[1] 300"
      ]
     },
     "metadata": {},
     "output_type": "display_data"
    }
   ],
   "source": [
    "toplam_talep"
   ]
  },
  {
   "cell_type": "markdown",
   "id": "56f7e612",
   "metadata": {},
   "source": [
    "- Toplam arz toplam talebi eşit olduğu için (300 birim) tablonun dengelenmiş (balanced)\n",
    "olduğunu söyleriz.\n",
    "- Biz bütün ulaştırma problemlerinin dengelenmiş olduğunu isteyeceğiz.\n",
    "- Eğer problem dengelenmiş değilse, onu öncelikle dengeli hale getireceğiz"
   ]
  },
  {
   "cell_type": "markdown",
   "id": "1099512e",
   "metadata": {},
   "source": [
    "### The Problem\n",
    "- Hangi fabrikadan hangi mağaza kaçar birimlik A ürünü gönderilmelidir ki toplam ulaştırma\n",
    "maliyetleri en küçük olsun."
   ]
  },
  {
   "cell_type": "code",
   "execution_count": null,
   "id": "3e4e55b2",
   "metadata": {
    "vscode": {
     "languageId": "r"
    }
   },
   "outputs": [],
   "source": []
  },
  {
   "cell_type": "markdown",
   "id": "aa8485ea",
   "metadata": {},
   "source": [
    "|           |    Mağaza1   |    Mağaza2    |    Mağaza3   |    Arz   |\n",
    "| :-------: | :----------: | :-----------: | :----------: | :------: |\n",
    "| Fabrika1  |      10      |       12      |      14      |    100   |\n",
    "| Fabrika2  |       9      |       13      |       8      |    200   |\n",
    "|  Talep    |      50      |      100      |     150      |     -    |"
   ]
  },
  {
   "cell_type": "markdown",
   "id": "a523484c",
   "metadata": {},
   "source": [
    "## 1.0.1 Karar Değişkenlerinin Belirlenmesi"
   ]
  },
  {
   "cell_type": "code",
   "execution_count": null,
   "id": "b08f8c4d",
   "metadata": {
    "vscode": {
     "languageId": "r"
    }
   },
   "outputs": [],
   "source": []
  },
  {
   "cell_type": "markdown",
   "id": "ae619a0a",
   "metadata": {},
   "source": [
    "- 𝑥11: 1. Fabrikadan 1. Mağazaya gönderilecek olan miktar.\n",
    "- 𝑥22: 2. Fabrikadan 2. Mağazaya gönderilecek olan miktar.\n",
    "- 𝑥23: 2. Fabrikadan 3. Mağazaya gönderilecek olan miktar.\n",
    "- 𝑥11, 𝑥12, 𝑥13, 𝑥12, 𝑥22, 𝑥23 değerleri ne olmalıdır ki toplam ulaştırma maliyetleri en küçük olsun"
   ]
  },
  {
   "cell_type": "markdown",
   "id": "4792f25c",
   "metadata": {},
   "source": [
    "## 1.0.2 Amaç Fonksiyonunun Belirlenmesi"
   ]
  },
  {
   "cell_type": "markdown",
   "id": "b640b8de",
   "metadata": {},
   "source": [
    "min 𝑧 = 10𝑥11 + 12𝑥12 + 14𝑥13 + 9𝑥21 + 13𝑥22 + 8𝑥23"
   ]
  },
  {
   "cell_type": "markdown",
   "id": "40f67d8c",
   "metadata": {},
   "source": [
    "## 1.1 Kısıtların Belirlenmesi"
   ]
  },
  {
   "cell_type": "code",
   "execution_count": null,
   "id": "4992df8d",
   "metadata": {
    "vscode": {
     "languageId": "r"
    }
   },
   "outputs": [],
   "source": []
  },
  {
   "cell_type": "markdown",
   "id": "9d957bfd",
   "metadata": {},
   "source": [
    "𝑥11 + 𝑥12 + 𝑥13 = 100 → Fabrika 1 toplam arzı olan 100 birimi mağazalara paylaştırsın.\n",
    "- 𝑥21 + 𝑥22 +  𝑥23 = 200 → Fabrika 2 toplam arzı olan 200 birimi mağazalara paylaştırsın.\n",
    "- 𝑥11 + 𝑥21 = 50 → Mağaza 1’in gereksinimi olan 50 birim karşılansın.\n",
    "- 𝑥12 + 𝑥22 = 100 → Mağaza 2’nin gereksinimi olan 100 birim karşılansın.\n",
    "- 𝑥13 + 𝑥23 = 150 → Mağaza 3’ün gereksinimi olan 150 birim karşılansın.\n",
    "- $n$ tane fabrika ve $m$ tane mağaza için toplamda $n$ + $m$ adet arz ve talep kısıtı yazdık.\n",
    "- Kısıtlardaki eşit sembolünü kullanmamıza imkan sağlayan durum, problemin dengelenmiş\n",
    "olmasıdır.\n",
    "- 𝑥𝑖𝑗 ≥ 0 olmalı, burada 𝑖 = 1, 2 ve 𝑗 = 1, 2, 3."
   ]
  },
  {
   "cell_type": "markdown",
   "id": "d5eb6521",
   "metadata": {},
   "source": [
    "## 1.2 Optimizasyon Problemi"
   ]
  },
  {
   "cell_type": "markdown",
   "id": "a133418f",
   "metadata": {},
   "source": [
    "min 𝑧 = 10𝑥11 + 12𝑥12 + 14𝑥13 + 9𝑥21 + 13𝑥22 + 8𝑥23\n",
    "Subject to:\n",
    "𝑥11 + 𝑥12 + 𝑥13 = 100 → Fabrika 1 için Arz kısıtı\n",
    "𝑥21 + 𝑥22 + 𝑥23 = 200 → Fabrika 2 için Arz kısıtı\n",
    "𝑥11 + 𝑥21 = 50 → Mağaza 1 için Talep kısıtı\n",
    "𝑥12 + 𝑥22 = 100 → Mağaza 2 için Talep kısıtı\n",
    "𝑥13 + 𝑥23 = 150 → Mağaza 3 için Talep kısıtı\n",
    "𝑥𝑖𝑗 ≥ 0 → Negatif olmama kısıtı\n",
    "𝑖 = 1, 2\n",
    "𝑗 = 1, 2, 3\n"
   ]
  },
  {
   "cell_type": "markdown",
   "id": "aa3a490f",
   "metadata": {},
   "source": [
    "## 1.3 Çözüm"
   ]
  },
  {
   "cell_type": "markdown",
   "id": "5d14f4e2",
   "metadata": {},
   "source": [
    "- Simpleks yöntemiyle çözüm (Bunun için de genelde bilgisayar yazılımı kullanacağız).\n",
    "- Diğer etkin çözüm yöntemleri."
   ]
  },
  {
   "cell_type": "markdown",
   "id": "c32ba3b5",
   "metadata": {},
   "source": [
    "## 1.3.1 Çözümün Excel ve Solver ile Elde edilmesi"
   ]
  },
  {
   "cell_type": "markdown",
   "id": "99e79d89",
   "metadata": {},
   "source": [
    "Excel çözümüne göre\n",
    "- 𝑥11 = 0, 𝑥12 = 100, 𝑥13 = 0, 𝑥21 = 50, 𝑥22 = 0, 𝑥23 = 150.\n",
    "- 100 birim A ürünü Fabrika 1’den Mağaza 2’ye ulaştırılsın.Böylece Fabrika 1’in tüm arzını Mağaza 2’ye gönderdiğini görüyoruz.\n",
    "- Fabrika 2 200 birimlik arzını Mağaza 1 ve Mağaza 3 arasında farklı oranlarda paylaştırmış.\n",
    "- Yatay toplamlar sırasıyla 100 ve 200\n",
    "- Dikey toplamlar sırasıyla 50, 100 ve 150.\n",
    "- O halde çözüm tüm kısıtları sağlar\n",
    "- Aynı zamanda 2850 pb minimum maliyet gösterir.\n",
    "- Yani Fabrikalardan Mağazalara daha ucuz bir ulaştırma stratejisi bulamayız."
   ]
  },
  {
   "cell_type": "code",
   "execution_count": null,
   "id": "ba565e8a",
   "metadata": {
    "vscode": {
     "languageId": "r"
    }
   },
   "outputs": [],
   "source": []
  }
 ],
 "metadata": {
  "kernelspec": {
   "display_name": "R",
   "language": "R",
   "name": "ir"
  },
  "language_info": {
   "codemirror_mode": "r",
   "file_extension": ".r",
   "mimetype": "text/x-r-source",
   "name": "R",
   "pygments_lexer": "r",
   "version": "3.6.1"
  }
 },
 "nbformat": 4,
 "nbformat_minor": 5
}
